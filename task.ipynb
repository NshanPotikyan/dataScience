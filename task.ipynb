{
 "cells": [
  {
   "cell_type": "markdown",
   "metadata": {},
   "source": [
    "# Tasks "
   ]
  },
  {
   "cell_type": "markdown",
   "metadata": {},
   "source": [
    "- Exploring the data, visualizing and understanding the relations and meanings of the fields.\n",
    "- Cleaning the data. removing suspicious values. Preparing for final usage. \n",
    "- Selecting the relevant fields. Normalizing if necessarry.\n",
    "- Modelling. Discussing Modelling techniques.\n",
    "- Allowing relevant modelling assumptions if needed.\n",
    "- Making possible models.\n",
    "- Evaluating all of them individually.\n",
    "- Revising Parameter settings if necessarry.\n",
    "- Comparing their outputs and measures.\n",
    "- Selecting approved models.\n",
    "- Making a final decision for the model that fits our business goal the best.\n",
    "- Deployment of the model into our industry environment. (Calculating the fair premiums and comparing to existing ones)\n",
    "- Come up with suggestions and conclusions.\n",
    "- Presentation of the results."
   ]
  },
  {
   "cell_type": "markdown",
   "metadata": {},
   "source": [
    "*Estimated time of occupancy for Nshan Potikyan: 15 hours*  <br>\n",
    "*Estimated time of occupancy for Karen Danielyan: 15 hours*"
   ]
  }
 ],
 "metadata": {
  "kernelspec": {
   "display_name": "Python 3",
   "language": "python",
   "name": "python3"
  },
  "language_info": {
   "codemirror_mode": {
    "name": "ipython",
    "version": 3
   },
   "file_extension": ".py",
   "mimetype": "text/x-python",
   "name": "python",
   "nbconvert_exporter": "python",
   "pygments_lexer": "ipython3",
   "version": "3.6.5"
  }
 },
 "nbformat": 4,
 "nbformat_minor": 2
}
