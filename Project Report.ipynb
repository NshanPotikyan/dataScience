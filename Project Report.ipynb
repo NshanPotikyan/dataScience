{
 "cells": [
  {
   "cell_type": "markdown",
   "metadata": {},
   "source": [
    "# Project: Car Insurance\n",
    "## Team members: Nshan Potikyan, Karen Danielyan"
   ]
  },
  {
   "cell_type": "markdown",
   "metadata": {},
   "source": [
    "# Task 1. Business understanding (1 point)"
   ]
  },
  {
   "cell_type": "markdown",
   "metadata": {},
   "source": [
    "## Identifying your business goals\n",
    "**Background**<br/>\n",
    "One of the Insurance companies in Armenia seeks to come up with a better pricing model for Motor Third Party Liability(MTPL) Insurance product, because the current pricing principle leaves the company without any profit. The company has collected large amounts of data concerning the riskiness of its clients throughout years and now wants to use it for improving the premium rating methodology. The premium paid by the customer consists of the net premium, which is the expected claim amount and additional terms to cover expenses etc. The senior management of the company believes that the data they have can be used to estimate the net premium given the profile of the policyholder.<br/>  \n",
    "**<font color='black'>Business goals</font>** <br/> The goals of the company is to attract new customers due to competitive prices, receive sufficient income to be able to meet its obligations in the future and to maximize the profit of the company.<br/>\n",
    "**<font color='black'>Business success criteria</font>** <br/>\n",
    "The results will be measured with the net loss ratio, which is the ratio of the paid claims and the collected premiums. The task will be considered succeeded if the loss ratio is close to 1. "
   ]
  },
  {
   "cell_type": "markdown",
   "metadata": {},
   "source": [
    "## Assessing your situation\n",
    "**<font>Inventory of resources</font>** <br/>\n",
    "The pricing actuary to give expert knowledge about the present pricing methodology, as well as expert knowledge from underwriting and claims settlement processes of the company. <br/> \n",
    "**<font>Requirements, assumptions, and constraints</font>** <br/> In order to come up with a suitable pricing model, the data miners have access to historical data of the company.<br/> \n",
    "**<font>Risks and contingencies</font>** <br/> \n",
    "There is a business risk, e.g., competitor coming up with better model first. <br/> \n",
    "There may be a need for a powerful computer(technical risk). This issue can be solved by purchasing a more powerful computer.  <br/> \n",
    "Poor data quality can be another important risk, which should be taken into account. <br/> \n",
    "**<font>Terminology</font>** <br/> \n",
    "Premium - The price of an insurance product <br/> \n",
    "Claim - The amount paid to an insured person in case of an insurance accident <br/> \n",
    "Loss Ratio - The ratio of the paid claims and the collected premiums <br/> \n",
    "Policy - Insurance agreement/contract\n",
    "Policyholder - The insured person \n",
    "\n",
    "**<font>Costs and benefits</font>** <br/>\n",
    "Estimated costs for data collection, development and implementation of the model. Identification of the benefits when a solution is deployed (e.g. improved customer satisfaction, net loss ratio close to 1 and increase in revenue).\n"
   ]
  },
  {
   "cell_type": "markdown",
   "metadata": {},
   "source": [
    "## Defining your data-mining goals\n",
    "**Data-mining goals** <br/>\n",
    "Predict how much will be the future loss of the policy, given the input information about the policyholder. The type of the problem is prediction, however it can also be divided into classification and prediction parts. <br/>\n",
    "**Data-mining success criteria** <br/> The aim is to get a minimal RMSE(Root Mean Squared Error) measure on the test data with our final trained predictive model. "
   ]
  },
  {
   "cell_type": "markdown",
   "metadata": {},
   "source": [
    "# Task 2. Data understanding (2 points)"
   ]
  },
  {
   "cell_type": "markdown",
   "metadata": {},
   "source": [
    "## Gathering data\n",
    "**Outline data requirements** <br/>\n",
    "To reach the data mining goals, we need any existing information about the policyholder or his/her vehicle, as well as the claim amount that was given by the insurer in case of an accident.\n",
    "\n",
    "**Verify data availability** <br/> The required data exists. <br/>\n",
    "**Define selection criteria** <br/> We select the data corresponding to years 2013-2016, because there are more information about policyholders available.  "
   ]
  },
  {
   "cell_type": "markdown",
   "metadata": {},
   "source": [
    "## Describing data\n",
    "The data includes around 210000 observations with the following attributes:\n",
    "- the id of the policy object(vehicle)\n",
    "- the start and end dates of the contract\n",
    "- the age of the policyholder\n",
    "- the province where the vehicle will be used the most \n",
    "- type of the place of the vehicle usage\n",
    "- purpose of the vehicle usage \n",
    "- distance driven (km)\n",
    "- type of the vehicle \n",
    "- Production year of the vehicle\n",
    "- claim size corresponding to the vehicle\n",
    "- the actual premium paid for the policy"
   ]
  },
  {
   "cell_type": "markdown",
   "metadata": {},
   "source": [
    "## Exploring data\n"
   ]
  },
  {
   "cell_type": "markdown",
   "metadata": {},
   "source": [
    "Here we include more details about the values of the attributes:\n",
    "- the id of the policy object(vehicle) - categorical variable\n",
    "- the start and end dates of the contract - dates in between Jan 2013-Aug 2016\n",
    "- the age of the policyholder - numerical variable {18,...,90}\n",
    "- the province where the vehicle will be used the most (12 possible values YR,LR,AR,KT,SH,AG,TV,AM,GE,SY,VD,NL) \n",
    "- type of the place of the vehicle usage(2 possible values: city, countryside)\n",
    "- purpose of the vehicle usage (Own, Taxi, Commercial, Service, Public, Other)\n",
    "- distance driven (km)\n",
    "- type of the vehicle (Car, Truck, Bus, Motorcycle, Other)\n",
    "- Production year of the vehicle \n",
    "- claim size corresponding to the vehicle - monetary values with heavy tailes\n",
    "- the actual premium paid for the policy - will be used in the final step of the model evaluation. "
   ]
  },
  {
   "cell_type": "markdown",
   "metadata": {},
   "source": [
    "## Verifying data quality"
   ]
  },
  {
   "cell_type": "markdown",
   "metadata": {},
   "source": [
    "The overall quality of the data is good and it can be used to meet the data mining goals. The observations containing unreasonable values were removed from the dataset."
   ]
  },
  {
   "cell_type": "markdown",
   "metadata": {},
   "source": [
    "# Task 3. Setting up and planning your project (1 point)"
   ]
  },
  {
   "cell_type": "markdown",
   "metadata": {},
   "source": [
    "Link to the slide:\n",
    "https://docs.google.com/presentation/d/1RHDUPsJVVtwVfPp8-WxsK8udEpYOmf4Ki9NjtbgpLDU/edit#slide=id.g496346b8fd_2_5"
   ]
  }
 ],
 "metadata": {
  "kernelspec": {
   "display_name": "Python 3",
   "language": "python",
   "name": "python3"
  },
  "language_info": {
   "codemirror_mode": {
    "name": "ipython",
    "version": 3
   },
   "file_extension": ".py",
   "mimetype": "text/x-python",
   "name": "python",
   "nbconvert_exporter": "python",
   "pygments_lexer": "ipython3",
   "version": "3.6.7"
  }
 },
 "nbformat": 4,
 "nbformat_minor": 2
}
